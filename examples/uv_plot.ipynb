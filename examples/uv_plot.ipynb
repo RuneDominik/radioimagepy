{
 "cells": [
  {
   "cell_type": "code",
   "execution_count": 16,
   "metadata": {},
   "outputs": [],
   "source": [
    "import importlib.util\n",
    "spec = importlib.util.spec_from_file_location(\"beam\", '/home/rune/Schreibtisch/radioimagepy/radioimagepy/scripts/uv_space.py')\n",
    "uv = importlib.util.module_from_spec(spec)\n",
    "spec.loader.exec_module(uv)\n",
    "\n",
    "from astropy.io import fits\n",
    "import astropy.units as u\n",
    "import numpy as np\n",
    "import matplotlib.pyplot as plt"
   ]
  },
  {
   "cell_type": "code",
   "execution_count": 17,
   "metadata": {},
   "outputs": [
    {
     "name": "stderr",
     "output_type": "stream",
     "text": [
      "/home/rune/.local/anaconda3/lib/python3.7/site-packages/ipykernel_launcher.py:12: UserWarning: Matplotlib is currently using module://ipykernel.pylab.backend_inline, which is a non-GUI backend, so cannot show the figure.\n",
      "  if sys.path[0] == '':\n"
     ]
    },
    {
     "data": {
      "image/png": "[encoded data removed]",
      "text/plain": [
       "<Figure size 576x576 with 1 Axes>"
      ]
     },
     "metadata": {
      "needs_background": "light"
     },
     "output_type": "display_data"
    }
   ],
   "source": [
    "data = fits.open('../example_data/2010-11-01.UVP')\n",
    "vis = data['PRIMARY'].data\n",
    "hdr_vis = data[0].header\n",
    "\n",
    "uv_space = uv.uv_space(vis, hdr_vis['CRVAL4'])\n",
    "\n",
    "fig, ax = plt.subplots(figsize=(8,8))\n",
    "uv_space.uvplot(ax)\n",
    "ax.set_ylim(-500*10**6,500*10**6)\n",
    "ax.set_xlim(-500*10**6,500*10**6)\n",
    "ax.invert_xaxis()\n",
    "fig.show()"
   ]
  },
  {
   "cell_type": "code",
   "execution_count": 18,
   "metadata": {},
   "outputs": [
    {
     "name": "stdout",
     "output_type": "stream",
     "text": [
      "{'I_0': array([[ 2.9945064e-01, -2.5361750e-01,  2.8817578e+02],\n",
      "       [ 2.9945064e-01, -2.5361750e-01,  2.8817578e+02],\n",
      "       [ 1.8529119e+00,  7.0932424e-01,  3.1792316e+02],\n",
      "       ...,\n",
      "       [ 4.3251038e-01,  1.9202240e+00,  4.4091499e+01],\n",
      "       [ 7.7148330e-01, -1.7263726e+00,  1.9243177e+01],\n",
      "       [ 7.7148330e-01, -1.7263726e+00,  1.9243177e+01]], dtype=float32)}\n"
     ]
    }
   ],
   "source": [
    "print(uv_space.get_IFs)"
   ]
  },
  {
   "cell_type": "code",
   "execution_count": null,
   "metadata": {},
   "outputs": [],
   "source": []
  }
 ],
 "metadata": {
  "kernelspec": {
   "display_name": "Python 3",
   "language": "python",
   "name": "python3"
  },
  "language_info": {
   "codemirror_mode": {
    "name": "ipython",
    "version": 3
   },
   "file_extension": ".py",
   "mimetype": "text/x-python",
   "name": "python",
   "nbconvert_exporter": "python",
   "pygments_lexer": "ipython3",
   "version": "3.7.6"
  }
 },
 "nbformat": 4,
 "nbformat_minor": 2
}
